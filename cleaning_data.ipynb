{
 "cells": [
  {
   "cell_type": "code",
   "execution_count": 55,
   "metadata": {},
   "outputs": [],
   "source": [
    "import pandas as pd\n",
    "from stop_words import get_stop_words\n",
    "from nltk.tokenize import word_tokenize\n",
    "from nltk.stem.snowball import SnowballStemmer\n",
    "import string"
   ]
  },
  {
   "cell_type": "code",
   "execution_count": 57,
   "metadata": {},
   "outputs": [],
   "source": [
    "df = pd.read_csv('parsed_data.csv')\n",
    "stop_word = get_stop_words('russian')\n",
    "punctuation = string.punctuation\n",
    "dob = '»—«'\n",
    "punctuation = ''.join((punctuation, dob))\n",
    "stemmer = SnowballStemmer('russian')"
   ]
  },
  {
   "cell_type": "code",
   "execution_count": 58,
   "metadata": {},
   "outputs": [],
   "source": [
    "def preprocessing(dfvalue):\n",
    "    tokenization = word_tokenize(dfvalue)\n",
    "    lower = [[word.lower() for word in text.split()] for text in tokenization]\n",
    "    text_punctuation = [[item.translate(str.maketrans('','', punctuation)) for item in word] for word in lower]\n",
    "    number = [[[item.translate(str.maketrans('', '', '1234567890')) for item in z1] for z1 in z2] for z2 in text_punctuation]\n",
    "    sentence = [[''.join(item) for item in z1] for z1 in number]\n",
    "    cleaned_text_list = [item for item in sentence if item != ['']]\n",
    "    cleaned_text = [''.join(qwe) for qwe in cleaned_text_list]\n",
    "    stop_text =  [qwe for qwe in cleaned_text if qwe not in stop_word]\n",
    "    stemmed = [stemmer.stem(item) for item in stop_text]\n",
    "    notlist_stem = [''.join(qwe) for qwe in stemmed]\n",
    "    return notlist_stem"
   ]
  },
  {
   "cell_type": "code",
   "execution_count": 59,
   "metadata": {},
   "outputs": [],
   "source": [
    "for i in range(len(df['value'])):\n",
    "    df.iloc[i].value = preprocessing(df.iloc[i].value)\n",
    "df['value'] = df['value'].apply(lambda x: ' '.join(x))\n",
    "df['y'] = 1"
   ]
  },
  {
   "cell_type": "code",
   "execution_count": 60,
   "metadata": {},
   "outputs": [],
   "source": [
    "df.to_csv('cleaned_ads_data.csv', index=False)\n",
    "a = pd.read_csv('cleaned_ads_data.csv')"
   ]
  },
  {
   "cell_type": "code",
   "execution_count": null,
   "metadata": {},
   "outputs": [],
   "source": []
  }
 ],
 "metadata": {
  "kernelspec": {
   "display_name": "Python 3",
   "language": "python",
   "name": "python3"
  },
  "language_info": {
   "codemirror_mode": {
    "name": "ipython",
    "version": 3
   },
   "file_extension": ".py",
   "mimetype": "text/x-python",
   "name": "python",
   "nbconvert_exporter": "python",
   "pygments_lexer": "ipython3",
   "version": "3.6.5"
  }
 },
 "nbformat": 4,
 "nbformat_minor": 2
}
