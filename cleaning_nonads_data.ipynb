{
 "cells": [
  {
   "cell_type": "code",
   "execution_count": 2,
   "metadata": {},
   "outputs": [],
   "source": [
    "import pandas as pd\n",
    "from stop_words import get_stop_words\n",
    "from nltk.tokenize import word_tokenize\n",
    "from nltk.stem.snowball import SnowballStemmer\n",
    "import string\n",
    "import re"
   ]
  },
  {
   "cell_type": "code",
   "execution_count": 3,
   "metadata": {},
   "outputs": [],
   "source": [
    "df = pd.read_csv('parsed_nonad_data.csv') # read csv as dataframe\n",
    "stop_word = get_stop_words('russian') # get stop_words for russian language\n",
    "punctuation = string.punctuation # get punctuation\n",
    "dob = '»—«qwertyuiopasdfghjklzxcvbnmQWERTYUIOPADFGHJKLZXCVBNMS' #get rid of additional punctuation and english characters\n",
    "punctuation = ''.join((punctuation, dob)) # add new punctuation to punctuation\n",
    "stemmer = SnowballStemmer('russian') #get russian stemmer"
   ]
  },
  {
   "cell_type": "code",
   "execution_count": 4,
   "metadata": {},
   "outputs": [],
   "source": [
    "def preprocessing(dfvalue):\n",
    "    tokenization = word_tokenize(dfvalue) # tokenize value\n",
    "    lower = [[word.lower() for word in text.split()] for text in tokenization] #lower all characters\n",
    "    text_punctuation = [[item.translate(str.maketrans('','', punctuation)) for item in word] for word in lower] # remove punctuation\n",
    "    number = [[[item.translate(str.maketrans('', '', '1234567890')) for item in z1] for z1 in z2] for z2 in text_punctuation] #remove numbers\n",
    "    sentence = [[''.join(item) for item in z1] for z1 in number] #convert list to string\n",
    "    cleaned_text_list = [item for item in sentence if item != ['']] #remove empty values from list\n",
    "    cleaned_text = [''.join(qwe) for qwe in cleaned_text_list] #convert list to string\n",
    "    stop_text =  [qwe for qwe in cleaned_text if qwe not in stop_word] #remove stop words\n",
    "    stemmed = [stemmer.stem(item) for item in stop_text] #reduce inflectional forms \n",
    "    notlist_stem = [''.join(qwe) for qwe in stemmed] #convert list to string\n",
    "    return notlist_stem"
   ]
  },
  {
   "cell_type": "code",
   "execution_count": 5,
   "metadata": {},
   "outputs": [],
   "source": [
    "for i in range(len(df['value'])): #replace all values to preprocessed\n",
    "    df.iloc[i].value = preprocessing(df.iloc[i].value)\n",
    "df['value'] = df['value'].apply(lambda x: ' '.join(x)) #convert list to string\n",
    "df['y'] = 0 # add new column as y"
   ]
  },
  {
   "cell_type": "code",
   "execution_count": 6,
   "metadata": {},
   "outputs": [],
   "source": [
    "df.to_csv('cleaned_nonads_data.csv', index=False) #save df as csv\n",
    "a = pd.read_csv('cleaned_nonads_data.csv') #check csv"
   ]
  }
 ],
 "metadata": {
  "kernelspec": {
   "display_name": "Python 3",
   "language": "python",
   "name": "python3"
  },
  "language_info": {
   "codemirror_mode": {
    "name": "ipython",
    "version": 3
   },
   "file_extension": ".py",
   "mimetype": "text/x-python",
   "name": "python",
   "nbconvert_exporter": "python",
   "pygments_lexer": "ipython3",
   "version": "3.6.5"
  }
 },
 "nbformat": 4,
 "nbformat_minor": 2
}
